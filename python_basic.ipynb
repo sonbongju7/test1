{
 "cells": [
  {
   "cell_type": "code",
   "execution_count": 2,
   "id": "bce9d391-f2db-4b23-b0e4-2aeb79303695",
   "metadata": {},
   "outputs": [],
   "source": [
    "# 1. 변수 선언 예제\n",
    "name = \"Alice\"  # 문자열 변수\n",
    "age = 30  # 정수 변수\n",
    "pi = 3.14  # 부동소수점 변수\n",
    "is_student = True  # 불리언 변수"
   ]
  },
  {
   "cell_type": "code",
   "execution_count": 5,
   "id": "4300c5de-43e8-410f-b607-fe1704ff6379",
   "metadata": {},
   "outputs": [
    {
     "name": "stdout",
     "output_type": "stream",
     "text": [
      "name= Alice\n",
      "age= 30\n",
      "pi= 3.14\n",
      "is_student= True\n"
     ]
    }
   ],
   "source": [
    "print('name=',name)\n",
    "print('age=',age)\n",
    "print('pi=',pi)\n",
    "print('is_student=',is_student)"
   ]
  },
  {
   "cell_type": "code",
   "execution_count": 6,
   "id": "a3aa2725-b32a-4428-bf49-6d47cfe38b6b",
   "metadata": {},
   "outputs": [],
   "source": [
    "# 2. 데이터 타입 예제\n",
    "my_integer = 42\n",
    "my_float = 3.14\n",
    "my_string = \"Hello, Python!\"\n",
    "my_boolean = True\n",
    "my_list = [1, 2, 3, 4, 5]\n",
    "my_tuple = (10, 20, 30)\n",
    "my_dict = {'apple': 2.99, 'banana': 1.99, 'cherry': 3.99}\n",
    "my_set = {1, 2, 3, 4, 5}"
   ]
  },
  {
   "cell_type": "code",
   "execution_count": 7,
   "id": "73dc9a33-6c45-4ad3-81de-f33ebe7c1766",
   "metadata": {},
   "outputs": [
    {
     "name": "stdout",
     "output_type": "stream",
     "text": [
      "my_integer= 42\n",
      "my_float= 3.14\n",
      "my_string= Hello, Python!\n",
      "my_boolean= True\n",
      "my_list= [1, 2, 3, 4, 5]\n",
      "my_tuple= (10, 20, 30)\n",
      "my_dict= {1, 2, 3, 4, 5}\n"
     ]
    }
   ],
   "source": [
    "print('my_integer=',my_integer)\n",
    "print('my_float=',my_float)\n",
    "print('my_string=',my_string)\n",
    "print('my_boolean=',my_boolean)\n",
    "print('my_list=',my_list)\n",
    "print('my_tuple=',my_tuple)\n",
    "print('my_dict=',my_set)"
   ]
  },
  {
   "cell_type": "code",
   "execution_count": 8,
   "id": "f99e3c3d-8e01-45f4-96af-4a8af0b57a95",
   "metadata": {},
   "outputs": [],
   "source": [
    "# 3. 연산자 예제\n",
    "result = 10 + 5\n",
    "is_equal = (result == 15)\n",
    "logical_result = (True and False)\n",
    "my_list = [1, 2, 3]\n",
    "list_membership = (2 in my_list)"
   ]
  },
  {
   "cell_type": "code",
   "execution_count": 9,
   "id": "66fae60b-e50d-4a16-8866-5975ba3d42ec",
   "metadata": {},
   "outputs": [
    {
     "name": "stdout",
     "output_type": "stream",
     "text": [
      "result= 15\n",
      "is_equal= True\n",
      "logical_result= False\n",
      "my_list= [1, 2, 3]\n",
      "list_membership= True\n"
     ]
    }
   ],
   "source": [
    "print('result=',result)\n",
    "print('is_equal=',is_equal)\n",
    "print('logical_result=',logical_result)\n",
    "print('my_list=',my_list)\n",
    "print('list_membership=',list_membership)"
   ]
  },
  {
   "cell_type": "code",
   "execution_count": 24,
   "id": "a1513274-b13e-4ed6-b692-2c322d1bab6c",
   "metadata": {},
   "outputs": [
    {
     "name": "stdout",
     "output_type": "stream",
     "text": [
      "나이:20, 성인입니다.\n",
      "숫자: 1\n",
      "숫자: 2\n",
      "숫자: 3\n"
     ]
    }
   ],
   "source": [
    "# 4. 조건문, 반복문 예제\n",
    "age = 20\n",
    "if age >= 18:\n",
    "    print(\"나이:\"+str(age)+\", 성인입니다.\")\n",
    "else:\n",
    "    print(\"미성년자입니다.\")\n",
    "\n",
    "# 반복문 예제\n",
    "for i in range(1, 4):\n",
    "    print(f\"숫자: {i}\")\n"
   ]
  },
  {
   "cell_type": "code",
   "execution_count": 11,
   "id": "08fd454d-cef2-4afa-b129-59ee975927cb",
   "metadata": {},
   "outputs": [
    {
     "name": "stdout",
     "output_type": "stream",
     "text": [
      "안녕하세요, Alice!\n"
     ]
    }
   ],
   "source": [
    "# 5. 함수 정의 예제\n",
    "def greet(name):\n",
    "    return f\"안녕하세요, {name}!\"\n",
    "\n",
    "# 함수 호출 예제\n",
    "print(greet(\"Alice\"))"
   ]
  },
  {
   "cell_type": "code",
   "execution_count": 21,
   "id": "dedc59a2-15fc-44ee-a0c4-aae79897b672",
   "metadata": {},
   "outputs": [
    {
     "name": "stdout",
     "output_type": "stream",
     "text": [
      "자동차: 현대 소나타\n"
     ]
    }
   ],
   "source": [
    "# 6. 클래스 정의 예제\n",
    "class Car:\n",
    "    def __init__(self, brand, model):\n",
    "        self.brand = brand\n",
    "        self.model = model\n",
    "\n",
    "    def display_info(self):\n",
    "        print(f\"자동차: {self.brand} {self.model}\")\n",
    "\n",
    "# 객체 생성 및 사용 예제\n",
    "my_car = Car(\"현대\", \"소나타\")\n",
    "my_car.display_info()\n"
   ]
  },
  {
   "cell_type": "code",
   "execution_count": 27,
   "id": "974593a4-f9fc-491e-9eb2-9732d16aa21e",
   "metadata": {},
   "outputs": [
    {
     "name": "stdout",
     "output_type": "stream",
     "text": [
      "0으로 나눌 수 없습니다.\n",
      "종료\n"
     ]
    }
   ],
   "source": [
    "# 7. 예외처리 예제\n",
    "try:\n",
    "    result = 10 / 0\n",
    "except ZeroDivisionError:\n",
    "    print(\"0으로 나눌 수 없습니다.\")\n",
    "else:\n",
    "    print(\"결과:\", result)\n",
    "finally:\n",
    "    print(\"종료\")"
   ]
  },
  {
   "cell_type": "code",
   "execution_count": 29,
   "id": "82c75bc3-bc70-43d6-b08f-e7f400aeadc8",
   "metadata": {},
   "outputs": [
    {
     "name": "stdout",
     "output_type": "stream",
     "text": [
      "4.0\n"
     ]
    }
   ],
   "source": [
    "# 8.모듈 import 예제\n",
    "import math\n",
    "\n",
    "print(math.sqrt(16))  # 제곱근 계산"
   ]
  },
  {
   "cell_type": "code",
   "execution_count": 30,
   "id": "75b6b4f8-f2f5-48c4-aae5-035f226a4317",
   "metadata": {},
   "outputs": [
    {
     "name": "stdin",
     "output_type": "stream",
     "text": [
      "이름을 입력하세요:  홍길동\n"
     ]
    },
    {
     "name": "stdout",
     "output_type": "stream",
     "text": [
      "안녕하세요, 홍길동\n"
     ]
    }
   ],
   "source": [
    "# 9.모듈 import 예제\n",
    "name = input(\"이름을 입력하세요: \")\n",
    "    \n",
    "# 결과 출력\n",
    "print(\"안녕하세요,\", name)"
   ]
  },
  {
   "cell_type": "code",
   "execution_count": null,
   "id": "a29a48be-3c50-4965-880f-f953025c9567",
   "metadata": {},
   "outputs": [],
   "source": []
  }
 ],
 "metadata": {
  "kernelspec": {
   "display_name": "Python 3 (ipykernel)",
   "language": "python",
   "name": "python3"
  },
  "language_info": {
   "codemirror_mode": {
    "name": "ipython",
    "version": 3
   },
   "file_extension": ".py",
   "mimetype": "text/x-python",
   "name": "python",
   "nbconvert_exporter": "python",
   "pygments_lexer": "ipython3",
   "version": "3.12.2"
  }
 },
 "nbformat": 4,
 "nbformat_minor": 5
}
