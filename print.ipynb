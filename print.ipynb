{
 "cells": [
  {
   "cell_type": "code",
   "execution_count": 40,
   "id": "87273d5e-9fa3-4230-bddf-af48ee5d5285",
   "metadata": {},
   "outputs": [
    {
     "name": "stdout",
     "output_type": "stream",
     "text": [
      "a=== 안녕하세요안녕하세요안녕하세요안녕하세요안녕하세요안녕하세요안녕하세요안녕하세요안녕하세요안녕하세요\n",
      "d=== True\n",
      "내 이름은 홍길동 이고, 내 나이는  30 세입니다\n",
      "내 이름은홍길동 나이는 30\n",
      "내 이름은 홍길동 입니다 내 나이는 30세 입니다\n",
      "내 나이는 30세 입니다\n"
     ]
    }
   ],
   "source": [
    "a = '안녕하세요'*10\n",
    "\n",
    "\n",
    "b =  123.4\n",
    "c =  123\n",
    "\n",
    "d =  True\n",
    "\n",
    "\n",
    "print('a===',a)\n",
    "\n",
    "print('d===',d)\n",
    "\n",
    "type(a)\n",
    "type(b)\n",
    "type(c)\n",
    "type(d)\n",
    "\n",
    "\n",
    "name='홍길동'\n",
    "age=30\n",
    "age2=age+1\n",
    "\n",
    "print('내 이름은', name,'이고, 내 나이는 ',age,'세입니다')\n",
    "print('내 이름은'+name+' 나이는 '+str(30))\n",
    "print('내 이름은 %s 입니다 내 나이는 %d세 입니다' %(name,age))\n",
    "print('내 나이는 %d세 입니다' %age)\n",
    "\n",
    "+ - * /  %  //\n",
    "\n",
    "조건문\n",
    "if\n",
    "\n",
    "반복문\n",
    "\n",
    "for \n",
    "\n",
    "    \n",
    "\n",
    "\n",
    "\n",
    "\n"
   ]
  },
  {
   "cell_type": "code",
   "execution_count": null,
   "id": "3dc10d89-e346-4476-954c-c37dec156763",
   "metadata": {},
   "outputs": [],
   "source": []
  }
 ],
 "metadata": {
  "kernelspec": {
   "display_name": "Python 3 (ipykernel)",
   "language": "python",
   "name": "python3"
  },
  "language_info": {
   "codemirror_mode": {
    "name": "ipython",
    "version": 3
   },
   "file_extension": ".py",
   "mimetype": "text/x-python",
   "name": "python",
   "nbconvert_exporter": "python",
   "pygments_lexer": "ipython3",
   "version": "3.11.7"
  }
 },
 "nbformat": 4,
 "nbformat_minor": 5
}
