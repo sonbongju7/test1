{
 "cells": [
  {
   "cell_type": "code",
   "execution_count": 1,
   "id": "76df1414-fb3d-4744-aed6-7a9ff0145ff1",
   "metadata": {},
   "outputs": [],
   "source": [
    "a=[0, 1, 2, [1, 2, 3], [1, 2, [2, 3]]]\n",
    "a.append(3)"
   ]
  },
  {
   "cell_type": "code",
   "execution_count": 2,
   "id": "cda04c3f-75da-4b04-a303-1aeb426f69a7",
   "metadata": {},
   "outputs": [
    {
     "data": {
      "text/plain": [
       "[0, 1, 2, [1, 2, 3], [1, 2, [2, 3]], 3]"
      ]
     },
     "execution_count": 2,
     "metadata": {},
     "output_type": "execute_result"
    }
   ],
   "source": [
    "a"
   ]
  },
  {
   "cell_type": "code",
   "execution_count": 3,
   "id": "807bf0d5-9a8d-422b-b894-ee608597bad6",
   "metadata": {},
   "outputs": [],
   "source": [
    "b = a.copy()"
   ]
  },
  {
   "cell_type": "code",
   "execution_count": 4,
   "id": "0b7011b7-6c87-427a-a829-6380ee8599e8",
   "metadata": {},
   "outputs": [
    {
     "data": {
      "text/plain": [
       "[0, 1, 2, [1, 2, 3], [1, 2, [2, 3]], 3]"
      ]
     },
     "execution_count": 4,
     "metadata": {},
     "output_type": "execute_result"
    }
   ],
   "source": [
    "b"
   ]
  },
  {
   "cell_type": "code",
   "execution_count": 14,
   "id": "ce79d5f7-1e93-4064-947a-068d1d8c1232",
   "metadata": {},
   "outputs": [
    {
     "name": "stdout",
     "output_type": "stream",
     "text": [
      "[1, 2, 3, ['a', 'b', ['가', '나', '다']]]\n"
     ]
    },
    {
     "data": {
      "text/plain": [
       "['가', '나']"
      ]
     },
     "execution_count": 14,
     "metadata": {},
     "output_type": "execute_result"
    }
   ],
   "source": [
    "a=[1, 2, 3, ['a','b',['가','나','다']]]\n",
    "print(a)\n",
    "#a[-1][-1][1]=1000\n",
    "#print(a)\n",
    "\n",
    "a[3][2][:2]\n"
   ]
  },
  {
   "cell_type": "code",
   "execution_count": 56,
   "id": "736b95fa-065d-47ef-a6f0-a5776f7ec9ad",
   "metadata": {},
   "outputs": [
    {
     "name": "stdout",
     "output_type": "stream",
     "text": [
      "[1, 2, 3, ['a', 'b', ['가', '나', '다'], 'abc'], 100, 200, 300]\n",
      "[1, 2, 3, ['a', 'kk', ['가', '나', '다'], 'abc'], 100, 200, 300]\n",
      "['가', '나']\n",
      "[1, 2, 3, ['a', 'kk', ['가', '나', '다'], 'akkc'], 100, 200, 300]\n",
      "a\n",
      "b\n",
      "c\n"
     ]
    }
   ],
   "source": [
    "a=[1, 2, 3, ['a','b',['가','나','다'],'abc'],100,200,300]\n",
    "print(a)\n",
    "a[3] #['a', 'b', ['가', '나', '다'], 'abc']\n",
    "a[3][1]='kk'\n",
    "print(a)\n",
    "c=a[3][2][:2]\n",
    "print(c)\n",
    "a[3][3]='akkc'\n",
    "print(a)\n",
    "\n",
    "a=[1, 2, 3, ['a','b',['가','나','다'],'abc'],100,200,300]\n",
    "\n",
    "print(a[3][3][0])\n",
    "print(a[3][3][1])\n",
    "print(a[3][3][2])\n",
    "\n",
    "\n",
    "\n",
    "\n",
    "\n"
   ]
  },
  {
   "cell_type": "code",
   "execution_count": 60,
   "id": "43ebf8ef-95d0-4c24-ad4c-69220827862e",
   "metadata": {},
   "outputs": [],
   "source": [
    "a=[]\n",
    "a.append('가')\n",
    "a.append(100)\n"
   ]
  },
  {
   "cell_type": "code",
   "execution_count": 61,
   "id": "75ff6a6c-9806-424b-931c-2b6ed1e864ab",
   "metadata": {},
   "outputs": [
    {
     "data": {
      "text/plain": [
       "['가', 100]"
      ]
     },
     "execution_count": 61,
     "metadata": {},
     "output_type": "execute_result"
    }
   ],
   "source": [
    "a"
   ]
  },
  {
   "cell_type": "code",
   "execution_count": 66,
   "id": "353de155-511f-4cf4-a5a0-fbb4c2940fc9",
   "metadata": {},
   "outputs": [],
   "source": [
    "a.append(['a','b','c'])"
   ]
  },
  {
   "cell_type": "code",
   "execution_count": 67,
   "id": "638355a0-b05f-46df-9356-83b37dceea4c",
   "metadata": {},
   "outputs": [
    {
     "data": {
      "text/plain": [
       "['가', 100, ['a', 'b', 'c'], 100, 200, ['a', 'b', 'c']]"
      ]
     },
     "execution_count": 67,
     "metadata": {},
     "output_type": "execute_result"
    }
   ],
   "source": [
    "a"
   ]
  },
  {
   "cell_type": "code",
   "execution_count": 64,
   "id": "6b84834e-7e82-424f-8936-902d2f2988b7",
   "metadata": {},
   "outputs": [],
   "source": [
    "#a.extend([100,200])"
   ]
  },
  {
   "cell_type": "code",
   "execution_count": 68,
   "id": "7bc92338-753f-4ee6-bc4e-261d9c2b550f",
   "metadata": {},
   "outputs": [
    {
     "data": {
      "text/plain": [
       "['가', 100, ['a', 'b', 'c'], 100, 200, ['a', 'b', 'c']]"
      ]
     },
     "execution_count": 68,
     "metadata": {},
     "output_type": "execute_result"
    }
   ],
   "source": [
    "a"
   ]
  },
  {
   "cell_type": "code",
   "execution_count": 69,
   "id": "d3b70c5a-84c0-451b-91f0-5be170c6f07d",
   "metadata": {},
   "outputs": [],
   "source": [
    "a= ['가', 100, ['a', 'b', 'c'], ['a', 'b', 'c']]"
   ]
  },
  {
   "cell_type": "code",
   "execution_count": 70,
   "id": "edd10def-2a99-45f0-beb4-7e45afc2fcae",
   "metadata": {},
   "outputs": [
    {
     "data": {
      "text/plain": [
       "['가', 100, ['a', 'b', 'c'], ['a', 'b', 'c']]"
      ]
     },
     "execution_count": 70,
     "metadata": {},
     "output_type": "execute_result"
    }
   ],
   "source": [
    "a"
   ]
  },
  {
   "cell_type": "code",
   "execution_count": 71,
   "id": "f9ab0aad-d556-410f-901c-0f4f912cea96",
   "metadata": {},
   "outputs": [
    {
     "data": {
      "text/plain": [
       "['a', 'b', 'c']"
      ]
     },
     "execution_count": 71,
     "metadata": {},
     "output_type": "execute_result"
    }
   ],
   "source": [
    "a.pop()"
   ]
  },
  {
   "cell_type": "code",
   "execution_count": 72,
   "id": "88a41868-937b-459b-b977-d1cdc52fe74d",
   "metadata": {},
   "outputs": [
    {
     "data": {
      "text/plain": [
       "['a', 'b', 'c']"
      ]
     },
     "execution_count": 72,
     "metadata": {},
     "output_type": "execute_result"
    }
   ],
   "source": [
    "a.pop()"
   ]
  },
  {
   "cell_type": "code",
   "execution_count": 73,
   "id": "961cd1b2-bf5a-469d-872c-475dca255055",
   "metadata": {},
   "outputs": [
    {
     "data": {
      "text/plain": [
       "['가', 100]"
      ]
     },
     "execution_count": 73,
     "metadata": {},
     "output_type": "execute_result"
    }
   ],
   "source": [
    "a"
   ]
  },
  {
   "cell_type": "code",
   "execution_count": 76,
   "id": "e85f96ac-b5b9-4bc4-885c-c3a7602ee1c2",
   "metadata": {},
   "outputs": [],
   "source": [
    "a= ['가', 100, ['a', 'b', 'c'], 'a', 'b']"
   ]
  },
  {
   "cell_type": "code",
   "execution_count": 77,
   "id": "429c637e-dd90-4e0a-b937-2e423a4d7bd7",
   "metadata": {},
   "outputs": [
    {
     "data": {
      "text/plain": [
       "'b'"
      ]
     },
     "execution_count": 77,
     "metadata": {},
     "output_type": "execute_result"
    }
   ],
   "source": [
    "a.pop()"
   ]
  },
  {
   "cell_type": "code",
   "execution_count": 78,
   "id": "16513d3f-1c0a-435a-af6c-4e2c553f5b74",
   "metadata": {},
   "outputs": [],
   "source": [
    "b=a.pop()"
   ]
  },
  {
   "cell_type": "code",
   "execution_count": 79,
   "id": "3047542e-5289-4ca9-97ae-89eb62a2b393",
   "metadata": {},
   "outputs": [
    {
     "data": {
      "text/plain": [
       "'a'"
      ]
     },
     "execution_count": 79,
     "metadata": {},
     "output_type": "execute_result"
    }
   ],
   "source": [
    "b"
   ]
  },
  {
   "cell_type": "code",
   "execution_count": 85,
   "id": "92312219-91ce-41a3-a77c-43a3082c5c86",
   "metadata": {},
   "outputs": [
    {
     "data": {
      "text/plain": [
       "3"
      ]
     },
     "execution_count": 85,
     "metadata": {},
     "output_type": "execute_result"
    }
   ],
   "source": [
    "a=[1,2,3,4,5]\n",
    "a.pop(2)"
   ]
  },
  {
   "cell_type": "code",
   "execution_count": 86,
   "id": "9994b6a6-c4ab-4048-a2b9-1a7333d29ab9",
   "metadata": {},
   "outputs": [],
   "source": [
    "a=[1,200,5]\n",
    "a.sort()"
   ]
  },
  {
   "cell_type": "code",
   "execution_count": 87,
   "id": "ce21f982-658f-4d86-98b0-3f1d1145a298",
   "metadata": {},
   "outputs": [
    {
     "data": {
      "text/plain": [
       "[1, 5, 200]"
      ]
     },
     "execution_count": 87,
     "metadata": {},
     "output_type": "execute_result"
    }
   ],
   "source": [
    "a"
   ]
  },
  {
   "cell_type": "code",
   "execution_count": 89,
   "id": "5a1eaf26-8769-4610-ad18-a645fdedbd04",
   "metadata": {},
   "outputs": [
    {
     "name": "stdout",
     "output_type": "stream",
     "text": [
      "1 200\n"
     ]
    }
   ],
   "source": [
    "print(a[0],a[2])"
   ]
  },
  {
   "cell_type": "code",
   "execution_count": 91,
   "id": "bea33258-d853-4e7d-8a80-6c4153aa2a4b",
   "metadata": {},
   "outputs": [],
   "source": [
    "연설문=['자유', '통일', '교육', '통일', '자유']\n",
    "uni = list(set(연설문))"
   ]
  },
  {
   "cell_type": "code",
   "execution_count": 92,
   "id": "b63ca905-e9e5-48f5-9dd2-abb99e5f3362",
   "metadata": {},
   "outputs": [
    {
     "data": {
      "text/plain": [
       "['교육', '자유', '통일']"
      ]
     },
     "execution_count": 92,
     "metadata": {},
     "output_type": "execute_result"
    }
   ],
   "source": [
    "uni"
   ]
  },
  {
   "cell_type": "code",
   "execution_count": 100,
   "id": "b5cb6b81-98df-490b-beff-c136a7ce66b4",
   "metadata": {},
   "outputs": [
    {
     "name": "stdout",
     "output_type": "stream",
     "text": [
      "교육 1\n",
      "자유 2\n",
      "통일 2\n"
     ]
    }
   ],
   "source": [
    "print(uni[0], 연설문.count(uni[0]))\n",
    "print(uni[1], 연설문.count(uni[1]))\n",
    "print(uni[2], 연설문.count(uni[2]))"
   ]
  },
  {
   "cell_type": "code",
   "execution_count": 152,
   "id": "0db072f1-5c7a-44c5-aa8c-6e73114909ed",
   "metadata": {},
   "outputs": [
    {
     "name": "stdout",
     "output_type": "stream",
     "text": [
      "국어평균: 77.5\n",
      "학생수: 6\n",
      "영어평균: 81.0\n",
      "학생수: 6\n"
     ]
    },
    {
     "data": {
      "image/png": "[encoded data removed]",
      "text/plain": [
       "<Figure size 640x480 with 1 Axes>"
      ]
     },
     "metadata": {},
     "output_type": "display_data"
    },
    {
     "data": {
      "image/png": "[encoded data removed]",
      "text/plain": [
       "<Figure size 640x480 with 1 Axes>"
      ]
     },
     "metadata": {},
     "output_type": "display_data"
    }
   ],
   "source": [
    "import statistics as st\n",
    "import numpy as np\n",
    "import matplotlib.pyplot as plt\n",
    "from matplotlib import font_manager, rc\n",
    "\n",
    "\n",
    "\n",
    "\n",
    "\n",
    "\n",
    "국어=[80,90,40,100,75,80]\n",
    "영어=[80,90,40,100,75,100]\n",
    "result1 = st.mean(국어)\n",
    "print('국어평균:',result1)\n",
    "print('학생수:',len(국어))\n",
    "\n",
    "result2 = np.round(np.mean(영어))\n",
    "print('영어평균:',result2)\n",
    "print('학생수:',len(영어))\n",
    "\n",
    "x = np.arange(6)\n",
    "국어=[80,90,40,100,75,80]\n",
    "학생 = ['철수', '한글', '길동', '영자','길수','영수']\n",
    "\n",
    "#plt.pie(국어, labels=학생, autopct='%.1f%%')\n",
    "#plt.show()\n",
    "\n",
    "plt.bar(x, 국어)\n",
    "plt.xticks(x, 학생)\n",
    "\n",
    "plt.bar(x, 국어, color='red')\n",
    "\n",
    "plt.xlabel('학생이름')\n",
    "plt.ylabel('국어점수')\n",
    "plt.title('국어점수 그래프')\n",
    "plt.show()\n",
    "\n",
    "plt.xlabel('학생이름')\n",
    "plt.ylabel('영어점수')\n",
    "plt.title('영어점수 그래프')\n",
    "\n",
    "plt.bar(x, 영어)\n",
    "plt.xticks(x, 학생)\n",
    "\n",
    "plt.show()\n",
    "\n",
    "\n"
   ]
  },
  {
   "cell_type": "code",
   "execution_count": null,
   "id": "e0b553f7-bf4c-45cf-8adc-1b6bc150cc89",
   "metadata": {},
   "outputs": [],
   "source": []
  }
 ],
 "metadata": {
  "kernelspec": {
   "display_name": "Python 3 (ipykernel)",
   "language": "python",
   "name": "python3"
  },
  "language_info": {
   "codemirror_mode": {
    "name": "ipython",
    "version": 3
   },
   "file_extension": ".py",
   "mimetype": "text/x-python",
   "name": "python",
   "nbconvert_exporter": "python",
   "pygments_lexer": "ipython3",
   "version": "3.11.7"
  }
 },
 "nbformat": 4,
 "nbformat_minor": 5
}
